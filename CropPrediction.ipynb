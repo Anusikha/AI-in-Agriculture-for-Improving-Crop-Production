{
 "cells": [
  {
   "cell_type": "code",
   "execution_count": 1,
   "metadata": {},
   "outputs": [],
   "source": [
    "# Importing libraries\n",
    "\n",
    "from __future__ import print_function\n",
    "import pandas as pd\n",
    "import numpy as np\n",
    "import statsmodels.api as sm\n",
    "import matplotlib.pyplot as plt\n",
    "import seaborn as sns\n",
    "from sklearn.metrics import classification_report\n",
    "from sklearn import metrics\n",
    "from sklearn import tree\n",
    "import warnings\n",
    "warnings.filterwarnings('ignore')"
   ]
  },
  {
   "cell_type": "code",
   "execution_count": 2,
   "metadata": {},
   "outputs": [],
   "source": [
    "df = pd.read_csv('./Crop_recommendation.csv')"
   ]
  },
  {
   "cell_type": "code",
   "execution_count": 3,
   "metadata": {},
   "outputs": [
    {
     "data": {
      "text/html": [
       "<div>\n",
       "<style scoped>\n",
       "    .dataframe tbody tr th:only-of-type {\n",
       "        vertical-align: middle;\n",
       "    }\n",
       "\n",
       "    .dataframe tbody tr th {\n",
       "        vertical-align: top;\n",
       "    }\n",
       "\n",
       "    .dataframe thead th {\n",
       "        text-align: right;\n",
       "    }\n",
       "</style>\n",
       "<table border=\"1\" class=\"dataframe\">\n",
       "  <thead>\n",
       "    <tr style=\"text-align: right;\">\n",
       "      <th></th>\n",
       "      <th>N</th>\n",
       "      <th>P</th>\n",
       "      <th>K</th>\n",
       "      <th>temperature</th>\n",
       "      <th>humidity</th>\n",
       "      <th>ph</th>\n",
       "      <th>rainfall</th>\n",
       "      <th>crop</th>\n",
       "    </tr>\n",
       "  </thead>\n",
       "  <tbody>\n",
       "    <tr>\n",
       "      <th>0</th>\n",
       "      <td>90</td>\n",
       "      <td>42</td>\n",
       "      <td>43</td>\n",
       "      <td>20.879744</td>\n",
       "      <td>82.002744</td>\n",
       "      <td>6.502985</td>\n",
       "      <td>202.935536</td>\n",
       "      <td>rice</td>\n",
       "    </tr>\n",
       "    <tr>\n",
       "      <th>1</th>\n",
       "      <td>85</td>\n",
       "      <td>58</td>\n",
       "      <td>41</td>\n",
       "      <td>21.770462</td>\n",
       "      <td>80.319644</td>\n",
       "      <td>7.038096</td>\n",
       "      <td>226.655537</td>\n",
       "      <td>rice</td>\n",
       "    </tr>\n",
       "    <tr>\n",
       "      <th>2</th>\n",
       "      <td>60</td>\n",
       "      <td>55</td>\n",
       "      <td>44</td>\n",
       "      <td>23.004459</td>\n",
       "      <td>82.320763</td>\n",
       "      <td>7.840207</td>\n",
       "      <td>263.964248</td>\n",
       "      <td>rice</td>\n",
       "    </tr>\n",
       "    <tr>\n",
       "      <th>3</th>\n",
       "      <td>74</td>\n",
       "      <td>35</td>\n",
       "      <td>40</td>\n",
       "      <td>26.491096</td>\n",
       "      <td>80.158363</td>\n",
       "      <td>6.980401</td>\n",
       "      <td>242.864034</td>\n",
       "      <td>rice</td>\n",
       "    </tr>\n",
       "    <tr>\n",
       "      <th>4</th>\n",
       "      <td>78</td>\n",
       "      <td>42</td>\n",
       "      <td>42</td>\n",
       "      <td>20.130175</td>\n",
       "      <td>81.604873</td>\n",
       "      <td>7.628473</td>\n",
       "      <td>262.717340</td>\n",
       "      <td>rice</td>\n",
       "    </tr>\n",
       "  </tbody>\n",
       "</table>\n",
       "</div>"
      ],
      "text/plain": [
       "    N   P   K  temperature   humidity        ph    rainfall  crop\n",
       "0  90  42  43    20.879744  82.002744  6.502985  202.935536  rice\n",
       "1  85  58  41    21.770462  80.319644  7.038096  226.655537  rice\n",
       "2  60  55  44    23.004459  82.320763  7.840207  263.964248  rice\n",
       "3  74  35  40    26.491096  80.158363  6.980401  242.864034  rice\n",
       "4  78  42  42    20.130175  81.604873  7.628473  262.717340  rice"
      ]
     },
     "execution_count": 3,
     "metadata": {},
     "output_type": "execute_result"
    }
   ],
   "source": [
    "df.head()"
   ]
  },
  {
   "cell_type": "code",
   "execution_count": 4,
   "metadata": {},
   "outputs": [
    {
     "data": {
      "text/html": [
       "<div>\n",
       "<style scoped>\n",
       "    .dataframe tbody tr th:only-of-type {\n",
       "        vertical-align: middle;\n",
       "    }\n",
       "\n",
       "    .dataframe tbody tr th {\n",
       "        vertical-align: top;\n",
       "    }\n",
       "\n",
       "    .dataframe thead th {\n",
       "        text-align: right;\n",
       "    }\n",
       "</style>\n",
       "<table border=\"1\" class=\"dataframe\">\n",
       "  <thead>\n",
       "    <tr style=\"text-align: right;\">\n",
       "      <th></th>\n",
       "      <th>N</th>\n",
       "      <th>P</th>\n",
       "      <th>K</th>\n",
       "      <th>temperature</th>\n",
       "      <th>humidity</th>\n",
       "      <th>ph</th>\n",
       "      <th>rainfall</th>\n",
       "      <th>crop</th>\n",
       "    </tr>\n",
       "  </thead>\n",
       "  <tbody>\n",
       "    <tr>\n",
       "      <th>2195</th>\n",
       "      <td>107</td>\n",
       "      <td>34</td>\n",
       "      <td>32</td>\n",
       "      <td>26.774637</td>\n",
       "      <td>66.413269</td>\n",
       "      <td>6.780064</td>\n",
       "      <td>177.774507</td>\n",
       "      <td>coffee</td>\n",
       "    </tr>\n",
       "    <tr>\n",
       "      <th>2196</th>\n",
       "      <td>99</td>\n",
       "      <td>15</td>\n",
       "      <td>27</td>\n",
       "      <td>27.417112</td>\n",
       "      <td>56.636362</td>\n",
       "      <td>6.086922</td>\n",
       "      <td>127.924610</td>\n",
       "      <td>coffee</td>\n",
       "    </tr>\n",
       "    <tr>\n",
       "      <th>2197</th>\n",
       "      <td>118</td>\n",
       "      <td>33</td>\n",
       "      <td>30</td>\n",
       "      <td>24.131797</td>\n",
       "      <td>67.225123</td>\n",
       "      <td>6.362608</td>\n",
       "      <td>173.322839</td>\n",
       "      <td>coffee</td>\n",
       "    </tr>\n",
       "    <tr>\n",
       "      <th>2198</th>\n",
       "      <td>117</td>\n",
       "      <td>32</td>\n",
       "      <td>34</td>\n",
       "      <td>26.272418</td>\n",
       "      <td>52.127394</td>\n",
       "      <td>6.758793</td>\n",
       "      <td>127.175293</td>\n",
       "      <td>coffee</td>\n",
       "    </tr>\n",
       "    <tr>\n",
       "      <th>2199</th>\n",
       "      <td>104</td>\n",
       "      <td>18</td>\n",
       "      <td>30</td>\n",
       "      <td>23.603016</td>\n",
       "      <td>60.396475</td>\n",
       "      <td>6.779833</td>\n",
       "      <td>140.937041</td>\n",
       "      <td>coffee</td>\n",
       "    </tr>\n",
       "  </tbody>\n",
       "</table>\n",
       "</div>"
      ],
      "text/plain": [
       "        N   P   K  temperature   humidity        ph    rainfall    crop\n",
       "2195  107  34  32    26.774637  66.413269  6.780064  177.774507  coffee\n",
       "2196   99  15  27    27.417112  56.636362  6.086922  127.924610  coffee\n",
       "2197  118  33  30    24.131797  67.225123  6.362608  173.322839  coffee\n",
       "2198  117  32  34    26.272418  52.127394  6.758793  127.175293  coffee\n",
       "2199  104  18  30    23.603016  60.396475  6.779833  140.937041  coffee"
      ]
     },
     "execution_count": 4,
     "metadata": {},
     "output_type": "execute_result"
    }
   ],
   "source": [
    "df.tail()"
   ]
  },
  {
   "cell_type": "code",
   "execution_count": 5,
   "metadata": {},
   "outputs": [
    {
     "data": {
      "text/plain": [
       "17600"
      ]
     },
     "execution_count": 5,
     "metadata": {},
     "output_type": "execute_result"
    }
   ],
   "source": [
    "df.size"
   ]
  },
  {
   "cell_type": "code",
   "execution_count": 6,
   "metadata": {},
   "outputs": [
    {
     "data": {
      "text/plain": [
       "(2200, 8)"
      ]
     },
     "execution_count": 6,
     "metadata": {},
     "output_type": "execute_result"
    }
   ],
   "source": [
    "df.shape"
   ]
  },
  {
   "cell_type": "code",
   "execution_count": 7,
   "metadata": {},
   "outputs": [
    {
     "data": {
      "text/plain": [
       "Index(['N', 'P', 'K', 'temperature', 'humidity', 'ph', 'rainfall', 'crop'], dtype='object')"
      ]
     },
     "execution_count": 7,
     "metadata": {},
     "output_type": "execute_result"
    }
   ],
   "source": [
    "df.columns"
   ]
  },
  {
   "cell_type": "code",
   "execution_count": 8,
   "metadata": {},
   "outputs": [
    {
     "data": {
      "text/plain": [
       "array(['rice', 'maize', 'chickpea', 'kidneybeans', 'pigeonpeas',\n",
       "       'mothbeans', 'mungbean', 'blackgram', 'lentil', 'pomegranate',\n",
       "       'banana', 'mango', 'grapes', 'watermelon', 'muskmelon', 'apple',\n",
       "       'orange', 'papaya', 'coconut', 'cotton', 'jute', 'coffee'],\n",
       "      dtype=object)"
      ]
     },
     "execution_count": 8,
     "metadata": {},
     "output_type": "execute_result"
    }
   ],
   "source": [
    "df['crop'].unique()"
   ]
  },
  {
   "cell_type": "code",
   "execution_count": 9,
   "metadata": {},
   "outputs": [
    {
     "data": {
      "text/plain": [
       "N                int64\n",
       "P                int64\n",
       "K                int64\n",
       "temperature    float64\n",
       "humidity       float64\n",
       "ph             float64\n",
       "rainfall       float64\n",
       "crop            object\n",
       "dtype: object"
      ]
     },
     "execution_count": 9,
     "metadata": {},
     "output_type": "execute_result"
    }
   ],
   "source": [
    "df.dtypes"
   ]
  },
  {
   "cell_type": "code",
   "execution_count": 10,
   "metadata": {},
   "outputs": [
    {
     "data": {
      "text/plain": [
       "coffee         100\n",
       "banana         100\n",
       "kidneybeans    100\n",
       "orange         100\n",
       "maize          100\n",
       "mothbeans      100\n",
       "grapes         100\n",
       "coconut        100\n",
       "mango          100\n",
       "pomegranate    100\n",
       "blackgram      100\n",
       "papaya         100\n",
       "mungbean       100\n",
       "apple          100\n",
       "pigeonpeas     100\n",
       "chickpea       100\n",
       "watermelon     100\n",
       "muskmelon      100\n",
       "rice           100\n",
       "cotton         100\n",
       "lentil         100\n",
       "jute           100\n",
       "Name: crop, dtype: int64"
      ]
     },
     "execution_count": 10,
     "metadata": {},
     "output_type": "execute_result"
    }
   ],
   "source": [
    "df['crop'].value_counts()"
   ]
  },
  {
   "cell_type": "code",
   "execution_count": 11,
   "metadata": {},
   "outputs": [
    {
     "data": {
      "text/plain": [
       "<AxesSubplot:>"
      ]
     },
     "execution_count": 11,
     "metadata": {},
     "output_type": "execute_result"
    },
    {
     "data": {
      "image/png": "[encoded data removed]",
      "text/plain": [
       "<Figure size 432x288 with 2 Axes>"
      ]
     },
     "metadata": {
      "needs_background": "light"
     },
     "output_type": "display_data"
    }
   ],
   "source": [
    "sns.heatmap(df.corr(),annot=True)"
   ]
  },
  {
   "cell_type": "code",
   "execution_count": 12,
   "metadata": {},
   "outputs": [],
   "source": [
    "# Seperating features and target label\n",
    "features = df[['N', 'P','K','temperature', 'humidity', 'ph', 'rainfall']]\n",
    "target = df['crop']\n",
    "#features = df[['temperature', 'humidity', 'ph', 'rainfall']]\n",
    "labels = df['crop']"
   ]
  },
  {
   "cell_type": "code",
   "execution_count": 13,
   "metadata": {},
   "outputs": [],
   "source": [
    "# Initialzing empty lists to append all model's name and corresponding name\n",
    "acc = []\n",
    "model = []"
   ]
  },
  {
   "cell_type": "code",
   "execution_count": 14,
   "metadata": {},
   "outputs": [],
   "source": [
    "# Splitting into train and test data\n",
    "\n",
    "from sklearn.model_selection import train_test_split\n",
    "Xtrain, Xtest, Ytrain, Ytest = train_test_split(features,target,test_size = 0.2,random_state =2)"
   ]
  },
  {
   "cell_type": "code",
   "execution_count": 15,
   "metadata": {},
   "outputs": [
    {
     "name": "stdout",
     "output_type": "stream",
     "text": [
      "KNN Accuracy is:  0.975\n",
      "              precision    recall  f1-score   support\n",
      "\n",
      "       apple       1.00      1.00      1.00        13\n",
      "      banana       1.00      1.00      1.00        17\n",
      "   blackgram       0.94      1.00      0.97        16\n",
      "    chickpea       1.00      1.00      1.00        21\n",
      "     coconut       1.00      1.00      1.00        21\n",
      "      coffee       1.00      1.00      1.00        22\n",
      "      cotton       0.95      1.00      0.98        20\n",
      "      grapes       1.00      1.00      1.00        18\n",
      "        jute       0.89      0.86      0.87        28\n",
      " kidneybeans       0.93      1.00      0.97        14\n",
      "      lentil       0.96      1.00      0.98        23\n",
      "       maize       1.00      0.95      0.98        21\n",
      "       mango       1.00      1.00      1.00        26\n",
      "   mothbeans       1.00      0.89      0.94        19\n",
      "    mungbean       1.00      1.00      1.00        24\n",
      "   muskmelon       1.00      1.00      1.00        23\n",
      "      orange       1.00      1.00      1.00        29\n",
      "      papaya       1.00      1.00      1.00        19\n",
      "  pigeonpeas       1.00      0.94      0.97        18\n",
      " pomegranate       1.00      1.00      1.00        17\n",
      "        rice       0.76      0.81      0.79        16\n",
      "  watermelon       1.00      1.00      1.00        15\n",
      "\n",
      "    accuracy                           0.97       440\n",
      "   macro avg       0.97      0.98      0.97       440\n",
      "weighted avg       0.98      0.97      0.98       440\n",
      "\n"
     ]
    }
   ],
   "source": [
    "# K-Nearest Neighbors\n",
    "from sklearn.neighbors import KNeighborsClassifier\n",
    "knn = KNeighborsClassifier()\n",
    "\n",
    "knn.fit(Xtrain,Ytrain)\n",
    "\n",
    "predicted_values = knn.predict(Xtest)\n",
    "\n",
    "x = metrics.accuracy_score(Ytest, predicted_values)\n",
    "acc.append(x)\n",
    "model.append('K Nearest Neighbours')\n",
    "print(\"KNN Accuracy is: \", x)\n",
    "\n",
    "print(classification_report(Ytest,predicted_values))"
   ]
  },
  {
   "cell_type": "code",
   "execution_count": 16,
   "metadata": {},
   "outputs": [],
   "source": [
    "from sklearn.model_selection import cross_val_score"
   ]
  },
  {
   "cell_type": "code",
   "execution_count": 17,
   "metadata": {},
   "outputs": [
    {
     "name": "stdout",
     "output_type": "stream",
     "text": [
      "Cross validation score:  [0.97727273 0.98181818 0.97954545 0.97954545 0.97954545]\n",
      "Cross validation score accuracy:  0.9795454545454545\n"
     ]
    }
   ],
   "source": [
    "score = cross_val_score(knn,features,target,cv=5)\n",
    "cv_acc_knn = np.mean(score)\n",
    "print('Cross validation score: ',score)\n",
    "print('Cross validation score accuracy: ',cv_acc_knn)"
   ]
  },
  {
   "cell_type": "code",
   "execution_count": 18,
   "metadata": {},
   "outputs": [
    {
     "name": "stdout",
     "output_type": "stream",
     "text": [
      "0.9744917664035312\n",
      "0.9755093225487962\n",
      "0.9746198274548091\n"
     ]
    }
   ],
   "source": [
    "from sklearn.metrics import precision_recall_fscore_support\n",
    "precision_knn,recall_knn,fscore_knn,support_knn = precision_recall_fscore_support(Ytest,predicted_values, average='macro')\n",
    "print(precision_knn)\n",
    "print(recall_knn)\n",
    "print(fscore_knn)"
   ]
  },
  {
   "cell_type": "code",
   "execution_count": 19,
   "metadata": {},
   "outputs": [
    {
     "name": "stdout",
     "output_type": "stream",
     "text": [
      "knn_train_accuracy =  0.9886363636363636\n",
      "knn_test_accuracy =  0.975\n"
     ]
    }
   ],
   "source": [
    "#Print Train Accuracy\n",
    "knn_train_accuracy = knn.score(Xtrain,Ytrain)\n",
    "print(\"knn_train_accuracy = \",knn.score(Xtrain,Ytrain))\n",
    "#Print Test Accuracy\n",
    "knn_test_accuracy = knn.score(Xtest,Ytest)\n",
    "print(\"knn_test_accuracy = \",knn.score(Xtest,Ytest))"
   ]
  },
  {
   "cell_type": "code",
   "execution_count": 20,
   "metadata": {},
   "outputs": [
    {
     "data": {
      "image/png": "[encoded data removed]",
      "text/plain": [
       "<Figure size 1080x720 with 2 Axes>"
      ]
     },
     "metadata": {
      "needs_background": "light"
     },
     "output_type": "display_data"
    }
   ],
   "source": [
    "y_pred = knn.predict(Xtest)\n",
    "y_true = Ytest\n",
    "\n",
    "from sklearn.metrics import confusion_matrix\n",
    "\n",
    "cm_knn = confusion_matrix(y_true,y_pred)\n",
    "\n",
    "f, ax = plt.subplots(figsize=(15,10))\n",
    "sns.heatmap(cm_knn, annot=True, linewidth=0.5, fmt=\".0f\",cmap='viridis', ax = ax)\n",
    "plt.xlabel('Predicted')\n",
    "plt.ylabel('Actual')\n",
    "plt.title('Predicted vs actual')\n",
    "plt.show()"
   ]
  },
  {
   "cell_type": "code",
   "execution_count": 21,
   "metadata": {},
   "outputs": [
    {
     "name": "stdout",
     "output_type": "stream",
     "text": [
      "Sensitivity:  1.0\n",
      "Specificity :  1.0\n"
     ]
    }
   ],
   "source": [
    "tp_knn = cm_knn[0,0]\n",
    "fp_knn = cm_knn[0,1]\n",
    "tn_knn = cm_knn[1,1]\n",
    "fn_knn = cm_knn[1,0]\n",
    "sensitivity_knn = tp_knn/(tp_knn+fn_knn)\n",
    "print(\"Sensitivity: \",sensitivity_knn)\n",
    "specificity_knn = tn_knn/(fp_knn+tn_knn)\n",
    "print('Specificity : ', specificity_knn)"
   ]
  },
  {
   "cell_type": "code",
   "execution_count": 22,
   "metadata": {},
   "outputs": [],
   "source": [
    "import pickle\n",
    "# Dump the trained K-NN classifier with Pickle\n",
    "KNN_pkl_filename = './models/KNNClassifier.pkl'\n",
    "# Open the file to save as pkl file\n",
    "KNN_Model_pkl = open(KNN_pkl_filename, 'wb')\n",
    "pickle.dump(knn, KNN_Model_pkl)\n",
    "# Close the pickle instances\n",
    "KNN_Model_pkl.close()"
   ]
  },
  {
   "cell_type": "code",
   "execution_count": 23,
   "metadata": {},
   "outputs": [
    {
     "name": "stdout",
     "output_type": "stream",
     "text": [
      "Naive Bayes's Accuracy is:  0.990909090909091\n",
      "              precision    recall  f1-score   support\n",
      "\n",
      "       apple       1.00      1.00      1.00        13\n",
      "      banana       1.00      1.00      1.00        17\n",
      "   blackgram       1.00      1.00      1.00        16\n",
      "    chickpea       1.00      1.00      1.00        21\n",
      "     coconut       1.00      1.00      1.00        21\n",
      "      coffee       1.00      1.00      1.00        22\n",
      "      cotton       1.00      1.00      1.00        20\n",
      "      grapes       1.00      1.00      1.00        18\n",
      "        jute       0.88      1.00      0.93        28\n",
      " kidneybeans       1.00      1.00      1.00        14\n",
      "      lentil       1.00      1.00      1.00        23\n",
      "       maize       1.00      1.00      1.00        21\n",
      "       mango       1.00      1.00      1.00        26\n",
      "   mothbeans       1.00      1.00      1.00        19\n",
      "    mungbean       1.00      1.00      1.00        24\n",
      "   muskmelon       1.00      1.00      1.00        23\n",
      "      orange       1.00      1.00      1.00        29\n",
      "      papaya       1.00      1.00      1.00        19\n",
      "  pigeonpeas       1.00      1.00      1.00        18\n",
      " pomegranate       1.00      1.00      1.00        17\n",
      "        rice       1.00      0.75      0.86        16\n",
      "  watermelon       1.00      1.00      1.00        15\n",
      "\n",
      "    accuracy                           0.99       440\n",
      "   macro avg       0.99      0.99      0.99       440\n",
      "weighted avg       0.99      0.99      0.99       440\n",
      "\n"
     ]
    }
   ],
   "source": [
    "# Guassian Naive Bayes\n",
    "from sklearn.naive_bayes import GaussianNB\n",
    "\n",
    "NaiveBayes = GaussianNB()\n",
    "\n",
    "NaiveBayes.fit(Xtrain,Ytrain)\n",
    "\n",
    "predicted_values = NaiveBayes.predict(Xtest)\n",
    "x = metrics.accuracy_score(Ytest, predicted_values)\n",
    "acc.append(x)\n",
    "model.append('Naive Bayes')\n",
    "print(\"Naive Bayes's Accuracy is: \", x)\n",
    "\n",
    "print(classification_report(Ytest,predicted_values))"
   ]
  },
  {
   "cell_type": "code",
   "execution_count": 24,
   "metadata": {},
   "outputs": [
    {
     "name": "stdout",
     "output_type": "stream",
     "text": [
      "Cross validation score:  [0.99772727 0.99545455 0.99545455 0.99545455 0.99090909]\n",
      "Cross validation score accuracy:  0.9950000000000001\n"
     ]
    }
   ],
   "source": [
    "# Cross validation score (NaiveBayes)\n",
    "score = cross_val_score(NaiveBayes,features,target,cv=5)\n",
    "cv_acc_nb = np.mean(score)\n",
    "print('Cross validation score: ',score)\n",
    "print('Cross validation score accuracy: ',cv_acc_nb)"
   ]
  },
  {
   "cell_type": "code",
   "execution_count": 25,
   "metadata": {},
   "outputs": [
    {
     "name": "stdout",
     "output_type": "stream",
     "text": [
      "0.9943181818181818\n",
      "0.9886363636363636\n",
      "0.9904761904761905\n"
     ]
    }
   ],
   "source": [
    "from sklearn.metrics import precision_recall_fscore_support\n",
    "precision_nb,recall_nb,fscore_nb,support_nb = precision_recall_fscore_support(Ytest,predicted_values, average='macro')\n",
    "print(precision_nb)\n",
    "print(recall_nb)\n",
    "print(fscore_nb)"
   ]
  },
  {
   "cell_type": "code",
   "execution_count": 26,
   "metadata": {},
   "outputs": [
    {
     "name": "stdout",
     "output_type": "stream",
     "text": [
      "Training accuracy =  0.9960227272727272\n",
      "Testing accuracy =  0.990909090909091\n"
     ]
    }
   ],
   "source": [
    "#Print Train Accuracy\n",
    "nb_train_accuracy = NaiveBayes.score(Xtrain,Ytrain)\n",
    "print(\"Training accuracy = \",NaiveBayes.score(Xtrain,Ytrain))\n",
    "#Print Test Accuracy\n",
    "nb_test_accuracy = NaiveBayes.score(Xtest,Ytest)\n",
    "print(\"Testing accuracy = \",NaiveBayes.score(Xtest,Ytest))"
   ]
  },
  {
   "cell_type": "code",
   "execution_count": 27,
   "metadata": {},
   "outputs": [
    {
     "data": {
      "image/png": "[encoded data removed]",
      "text/plain": [
       "<Figure size 1080x720 with 2 Axes>"
      ]
     },
     "metadata": {
      "needs_background": "light"
     },
     "output_type": "display_data"
    }
   ],
   "source": [
    "y_pred = NaiveBayes.predict(Xtest)\n",
    "y_true = Ytest\n",
    "\n",
    "from sklearn.metrics import confusion_matrix\n",
    "\n",
    "cm_nb = confusion_matrix(y_true,y_pred)\n",
    "\n",
    "f, ax = plt.subplots(figsize=(15,10))\n",
    "sns.heatmap(cm_nb, annot=True, linewidth=0.5, fmt=\".0f\",  cmap='viridis', ax = ax)\n",
    "plt.xlabel(\"Predicted\")\n",
    "plt.ylabel(\"Actual\")\n",
    "plt.title('Predicted vs actual')\n",
    "plt.show()"
   ]
  },
  {
   "cell_type": "code",
   "execution_count": 28,
   "metadata": {},
   "outputs": [
    {
     "name": "stdout",
     "output_type": "stream",
     "text": [
      "Sensitivity:  1.0\n",
      "Specificity :  1.0\n"
     ]
    }
   ],
   "source": [
    "tp_nb = cm_nb[0,0]\n",
    "fp_nb = cm_nb[0,1]\n",
    "tn_nb = cm_nb[1,1]\n",
    "fn_nb = cm_nb[1,0]\n",
    "sensitivity_nb = tp_nb/(tp_nb+fn_nb)\n",
    "print(\"Sensitivity: \",sensitivity_nb)\n",
    "specificity_nb = tn_nb/(fp_nb+tn_nb)\n",
    "print('Specificity : ', specificity_nb)"
   ]
  },
  {
   "cell_type": "code",
   "execution_count": 29,
   "metadata": {},
   "outputs": [],
   "source": [
    "import pickle\n",
    "# Dump the trained Naive Bayes classifier with Pickle\n",
    "NB_pkl_filename = './models/NBClassifier.pkl'\n",
    "# Open the file to save as pkl file\n",
    "NB_Model_pkl = open(NB_pkl_filename, 'wb')\n",
    "pickle.dump(NaiveBayes, NB_Model_pkl)\n",
    "# Close the pickle instances\n",
    "NB_Model_pkl.close()"
   ]
  },
  {
   "cell_type": "code",
   "execution_count": 30,
   "metadata": {},
   "outputs": [
    {
     "name": "stdout",
     "output_type": "stream",
     "text": [
      "SVM's Accuracy is:  0.975\n",
      "              precision    recall  f1-score   support\n",
      "\n",
      "       apple       1.00      1.00      1.00        13\n",
      "      banana       1.00      1.00      1.00        17\n",
      "   blackgram       0.94      1.00      0.97        16\n",
      "    chickpea       1.00      1.00      1.00        21\n",
      "     coconut       1.00      1.00      1.00        21\n",
      "      coffee       1.00      1.00      1.00        22\n",
      "      cotton       0.95      1.00      0.98        20\n",
      "      grapes       1.00      1.00      1.00        18\n",
      "        jute       0.86      0.89      0.88        28\n",
      " kidneybeans       0.93      1.00      0.97        14\n",
      "      lentil       0.96      1.00      0.98        23\n",
      "       maize       1.00      0.95      0.98        21\n",
      "       mango       1.00      1.00      1.00        26\n",
      "   mothbeans       1.00      0.89      0.94        19\n",
      "    mungbean       1.00      1.00      1.00        24\n",
      "   muskmelon       1.00      1.00      1.00        23\n",
      "      orange       1.00      1.00      1.00        29\n",
      "      papaya       1.00      1.00      1.00        19\n",
      "  pigeonpeas       1.00      0.94      0.97        18\n",
      " pomegranate       1.00      1.00      1.00        17\n",
      "        rice       0.80      0.75      0.77        16\n",
      "  watermelon       1.00      1.00      1.00        15\n",
      "\n",
      "    accuracy                           0.97       440\n",
      "   macro avg       0.97      0.97      0.97       440\n",
      "weighted avg       0.98      0.97      0.97       440\n",
      "\n"
     ]
    }
   ],
   "source": [
    "# Support Vector Machine (SVM)\n",
    "from sklearn.svm import SVC\n",
    "# data normalization with sklearn\n",
    "# from sklearn.preprocessing import MinMaxScaler\n",
    "# # fit scaler on training data\n",
    "# norm = MinMaxScaler().fit(Xtrain)\n",
    "# X_train_norm = norm.transform(Xtrain)\n",
    "# # transform testing dataabs\n",
    "# X_test_norm = norm.transform(Xtest)\n",
    "SVM = SVC(kernel='poly', degree=3, C=1,probability=True)\n",
    "# SVM.fit(X_train_norm,Ytrain)\n",
    "SVM.fit(Xtrain,Ytrain)\n",
    "# predicted_values = SVM.predict(X_test_norm)\n",
    "predicted_values = SVM.predict(Xtest)\n",
    "x = metrics.accuracy_score(Ytest, predicted_values)\n",
    "acc.append(x)\n",
    "model.append('SVM')\n",
    "print(\"SVM's Accuracy is: \", x)\n",
    "\n",
    "print(classification_report(Ytest,predicted_values))"
   ]
  },
  {
   "cell_type": "code",
   "execution_count": 31,
   "metadata": {},
   "outputs": [
    {
     "name": "stdout",
     "output_type": "stream",
     "text": [
      "Cross validation score:  [0.97954545 0.975      0.98863636 0.98863636 0.98181818]\n",
      "Cross validation score accuracy:  0.9827272727272728\n"
     ]
    }
   ],
   "source": [
    "# Cross validation score (SVM)\n",
    "score = cross_val_score(SVM,features,target,cv=5)\n",
    "cv_acc_svm = np.mean(score)\n",
    "print('Cross validation score: ',score)\n",
    "print('Cross validation score accuracy: ',cv_acc_svm)"
   ]
  },
  {
   "cell_type": "code",
   "execution_count": 32,
   "metadata": {},
   "outputs": [
    {
     "name": "stdout",
     "output_type": "stream",
     "text": [
      "0.9748769570524135\n",
      "0.9742917900812637\n",
      "0.9742007579201352\n"
     ]
    }
   ],
   "source": [
    "from sklearn.metrics import precision_recall_fscore_support\n",
    "precision_svm,recall_svm,fscore_svm,support_svm = precision_recall_fscore_support(Ytest,predicted_values, average='macro')\n",
    "print(precision_svm)\n",
    "print(recall_svm)\n",
    "print(fscore_svm)"
   ]
  },
  {
   "cell_type": "code",
   "execution_count": 33,
   "metadata": {},
   "outputs": [
    {
     "name": "stdout",
     "output_type": "stream",
     "text": [
      "Training accuracy =  0.9892045454545455\n",
      "Testing accuracy =  0.975\n"
     ]
    }
   ],
   "source": [
    "#Print Train Accuracy\n",
    "svm_train_accuracy = SVM.score(Xtrain,Ytrain)\n",
    "print(\"Training accuracy = \",SVM.score(Xtrain,Ytrain))\n",
    "#Print Test Accuracy\n",
    "svm_test_accuracy = SVM.score(Xtest,Ytest)\n",
    "print(\"Testing accuracy = \",SVM.score(Xtest,Ytest))"
   ]
  },
  {
   "cell_type": "code",
   "execution_count": 34,
   "metadata": {},
   "outputs": [
    {
     "data": {
      "image/png": "[encoded data removed]",
      "text/plain": [
       "<Figure size 1080x720 with 2 Axes>"
      ]
     },
     "metadata": {
      "needs_background": "light"
     },
     "output_type": "display_data"
    }
   ],
   "source": [
    "y_pred = SVM.predict(Xtest)\n",
    "y_true = Ytest\n",
    "\n",
    "from sklearn.metrics import confusion_matrix\n",
    "\n",
    "cm_svm = confusion_matrix(y_true,y_pred)\n",
    "\n",
    "f, ax = plt.subplots(figsize=(15,10))\n",
    "sns.heatmap(cm_nb, annot=True, linewidth=0.5, fmt=\".0f\",  cmap='viridis', ax = ax)\n",
    "plt.xlabel(\"Predicted\")\n",
    "plt.ylabel(\"Actual\")\n",
    "plt.title('Predicted vs actual')\n",
    "plt.show()"
   ]
  },
  {
   "cell_type": "code",
   "execution_count": 35,
   "metadata": {},
   "outputs": [
    {
     "name": "stdout",
     "output_type": "stream",
     "text": [
      "Sensitivity:  1.0\n",
      "Specificity :  1.0\n"
     ]
    }
   ],
   "source": [
    "tp_svm = cm_svm[0,0]\n",
    "fp_svm = cm_svm[0,1]\n",
    "tn_svm = cm_svm[1,1]\n",
    "fn_svm = cm_svm[1,0]\n",
    "sensitivity_svm = tp_svm/(tp_svm+fn_svm)\n",
    "print(\"Sensitivity: \",sensitivity_svm)\n",
    "specificity_svm = tn_svm/(fp_svm+tn_svm)\n",
    "print('Specificity : ', specificity_svm)"
   ]
  },
  {
   "cell_type": "code",
   "execution_count": 36,
   "metadata": {},
   "outputs": [],
   "source": [
    "#Saving trained SVM model\n",
    "import pickle\n",
    "# Dump the trained SVM classifier with Pickle\n",
    "SVM_pkl_filename = './models/SVMClassifier.pkl'\n",
    "# Open the file to save as pkl file\n",
    "SVM_Model_pkl = open(SVM_pkl_filename, 'wb')\n",
    "pickle.dump(SVM, SVM_Model_pkl)\n",
    "# Close the pickle instances\n",
    "SVM_Model_pkl.close()"
   ]
  },
  {
   "cell_type": "code",
   "execution_count": 37,
   "metadata": {},
   "outputs": [
    {
     "name": "stdout",
     "output_type": "stream",
     "text": [
      "RF's Accuracy is:  0.990909090909091\n",
      "              precision    recall  f1-score   support\n",
      "\n",
      "       apple       1.00      1.00      1.00        13\n",
      "      banana       1.00      1.00      1.00        17\n",
      "   blackgram       0.94      1.00      0.97        16\n",
      "    chickpea       1.00      1.00      1.00        21\n",
      "     coconut       1.00      1.00      1.00        21\n",
      "      coffee       1.00      1.00      1.00        22\n",
      "      cotton       1.00      1.00      1.00        20\n",
      "      grapes       1.00      1.00      1.00        18\n",
      "        jute       0.90      1.00      0.95        28\n",
      " kidneybeans       1.00      1.00      1.00        14\n",
      "      lentil       1.00      1.00      1.00        23\n",
      "       maize       1.00      1.00      1.00        21\n",
      "       mango       1.00      1.00      1.00        26\n",
      "   mothbeans       1.00      0.95      0.97        19\n",
      "    mungbean       1.00      1.00      1.00        24\n",
      "   muskmelon       1.00      1.00      1.00        23\n",
      "      orange       1.00      1.00      1.00        29\n",
      "      papaya       1.00      1.00      1.00        19\n",
      "  pigeonpeas       1.00      1.00      1.00        18\n",
      " pomegranate       1.00      1.00      1.00        17\n",
      "        rice       1.00      0.81      0.90        16\n",
      "  watermelon       1.00      1.00      1.00        15\n",
      "\n",
      "    accuracy                           0.99       440\n",
      "   macro avg       0.99      0.99      0.99       440\n",
      "weighted avg       0.99      0.99      0.99       440\n",
      "\n"
     ]
    }
   ],
   "source": [
    "from sklearn.ensemble import RandomForestClassifier\n",
    "\n",
    "RF = RandomForestClassifier(n_estimators=20, random_state=0)\n",
    "RF.fit(Xtrain,Ytrain)\n",
    "\n",
    "predicted_values = RF.predict(Xtest)\n",
    "\n",
    "x = metrics.accuracy_score(Ytest, predicted_values)\n",
    "acc.append(x)\n",
    "model.append('RF')\n",
    "print(\"RF's Accuracy is: \", x)\n",
    "\n",
    "print(classification_report(Ytest,predicted_values))"
   ]
  },
  {
   "cell_type": "code",
   "execution_count": 38,
   "metadata": {},
   "outputs": [
    {
     "name": "stdout",
     "output_type": "stream",
     "text": [
      "Cross validation score:  [0.99772727 0.99545455 0.99772727 0.99318182 0.98863636]\n",
      "Cross validation score accuracy:  0.9945454545454545\n"
     ]
    }
   ],
   "source": [
    "# Cross validation score (Random Forest)\n",
    "score = cross_val_score(RF,features,target,cv=5)\n",
    "cv_acc_rf = np.mean(score)\n",
    "print('Cross validation score: ',score)\n",
    "print('Cross validation score accuracy: ',cv_acc_rf)"
   ]
  },
  {
   "cell_type": "code",
   "execution_count": 39,
   "metadata": {},
   "outputs": [
    {
     "name": "stdout",
     "output_type": "stream",
     "text": [
      "0.992927376229084\n",
      "0.989084928229665\n",
      "0.9903806458718525\n"
     ]
    }
   ],
   "source": [
    "precision_rf,recall_rf,fscore_rf,support_rf = precision_recall_fscore_support(Ytest,predicted_values, average='macro')\n",
    "print(precision_rf)\n",
    "print(recall_rf)\n",
    "print(fscore_rf)"
   ]
  },
  {
   "cell_type": "code",
   "execution_count": 40,
   "metadata": {},
   "outputs": [
    {
     "name": "stdout",
     "output_type": "stream",
     "text": [
      "Training accuracy =  1.0\n",
      "Testing accuracy =  0.990909090909091\n"
     ]
    }
   ],
   "source": [
    "#Print Train Accuracy\n",
    "rf_train_accuracy = RF.score(Xtrain,Ytrain)\n",
    "print(\"Training accuracy = \",RF.score(Xtrain,Ytrain))\n",
    "#Print Test Accuracy\n",
    "rf_test_accuracy = RF.score(Xtest,Ytest)\n",
    "print(\"Testing accuracy = \",RF.score(Xtest,Ytest))"
   ]
  },
  {
   "cell_type": "code",
   "execution_count": 41,
   "metadata": {},
   "outputs": [
    {
     "data": {
      "image/png": "[encoded data removed]",
      "text/plain": [
       "<Figure size 1080x720 with 2 Axes>"
      ]
     },
     "metadata": {
      "needs_background": "light"
     },
     "output_type": "display_data"
    }
   ],
   "source": [
    "y_pred = RF.predict(Xtest)\n",
    "y_true = Ytest\n",
    "\n",
    "from sklearn.metrics import confusion_matrix\n",
    "\n",
    "cm_rf = confusion_matrix(y_true,y_pred)\n",
    "\n",
    "f, ax = plt.subplots(figsize=(15,10))\n",
    "sns.heatmap(cm_rf, annot=True, linewidth=0.5, fmt=\".0f\",  cmap='viridis', ax = ax)\n",
    "plt.xlabel(\"Predicted\")\n",
    "plt.ylabel(\"Actual\")\n",
    "plt.title('Predicted vs actual')\n",
    "plt.show()"
   ]
  },
  {
   "cell_type": "code",
   "execution_count": 42,
   "metadata": {},
   "outputs": [
    {
     "name": "stdout",
     "output_type": "stream",
     "text": [
      "Sensitivity:  1.0\n",
      "Specificity :  1.0\n"
     ]
    }
   ],
   "source": [
    "tp_rf = cm_rf[0,0]\n",
    "fp_rf = cm_rf[0,1]\n",
    "tn_rf = cm_rf[1,1]\n",
    "fn_rf = cm_rf[1,0]\n",
    "sensitivity_rf = tp_rf/(tp_rf+fn_rf)\n",
    "print(\"Sensitivity: \",sensitivity_rf)\n",
    "specificity_rf = tn_rf/(fp_rf+tn_rf)\n",
    "print('Specificity : ', specificity_rf)"
   ]
  },
  {
   "cell_type": "code",
   "execution_count": 43,
   "metadata": {},
   "outputs": [],
   "source": [
    "# Saving trained Random Forest model\n",
    "import pickle\n",
    "# Dump the trained Naive Bayes classifier with Pickle\n",
    "RF_pkl_filename = './models/RandomForest.pkl'\n",
    "# Open the file to save as pkl file\n",
    "RF_Model_pkl = open(RF_pkl_filename, 'wb')\n",
    "pickle.dump(RF, RF_Model_pkl)\n",
    "# Close the pickle instances\n",
    "RF_Model_pkl.close()"
   ]
  },
  {
   "cell_type": "code",
   "execution_count": 44,
   "metadata": {},
   "outputs": [],
   "source": [
    "from mlxtend.classifier import EnsembleVoteClassifier\n",
    "from sklearn.ensemble import VotingClassifier"
   ]
  },
  {
   "cell_type": "code",
   "execution_count": 45,
   "metadata": {},
   "outputs": [
    {
     "data": {
      "text/html": [
       "<style>#sk-container-id-1 {color: black;background-color: white;}#sk-container-id-1 pre{padding: 0;}#sk-container-id-1 div.sk-toggleable {background-color: white;}#sk-container-id-1 label.sk-toggleable__label {cursor: pointer;display: block;width: 100%;margin-bottom: 0;padding: 0.3em;box-sizing: border-box;text-align: center;}#sk-container-id-1 label.sk-toggleable__label-arrow:before {content: \"▸\";float: left;margin-right: 0.25em;color: #696969;}#sk-container-id-1 label.sk-toggleable__label-arrow:hover:before {color: black;}#sk-container-id-1 div.sk-estimator:hover label.sk-toggleable__label-arrow:before {color: black;}#sk-container-id-1 div.sk-toggleable__content {max-height: 0;max-width: 0;overflow: hidden;text-align: left;background-color: #f0f8ff;}#sk-container-id-1 div.sk-toggleable__content pre {margin: 0.2em;color: black;border-radius: 0.25em;background-color: #f0f8ff;}#sk-container-id-1 input.sk-toggleable__control:checked~div.sk-toggleable__content {max-height: 200px;max-width: 100%;overflow: auto;}#sk-container-id-1 input.sk-toggleable__control:checked~label.sk-toggleable__label-arrow:before {content: \"▾\";}#sk-container-id-1 div.sk-estimator input.sk-toggleable__control:checked~label.sk-toggleable__label {background-color: #d4ebff;}#sk-container-id-1 div.sk-label input.sk-toggleable__control:checked~label.sk-toggleable__label {background-color: #d4ebff;}#sk-container-id-1 input.sk-hidden--visually {border: 0;clip: rect(1px 1px 1px 1px);clip: rect(1px, 1px, 1px, 1px);height: 1px;margin: -1px;overflow: hidden;padding: 0;position: absolute;width: 1px;}#sk-container-id-1 div.sk-estimator {font-family: monospace;background-color: #f0f8ff;border: 1px dotted black;border-radius: 0.25em;box-sizing: border-box;margin-bottom: 0.5em;}#sk-container-id-1 div.sk-estimator:hover {background-color: #d4ebff;}#sk-container-id-1 div.sk-parallel-item::after {content: \"\";width: 100%;border-bottom: 1px solid gray;flex-grow: 1;}#sk-container-id-1 div.sk-label:hover label.sk-toggleable__label {background-color: #d4ebff;}#sk-container-id-1 div.sk-serial::before {content: \"\";position: absolute;border-left: 1px solid gray;box-sizing: border-box;top: 0;bottom: 0;left: 50%;z-index: 0;}#sk-container-id-1 div.sk-serial {display: flex;flex-direction: column;align-items: center;background-color: white;padding-right: 0.2em;padding-left: 0.2em;position: relative;}#sk-container-id-1 div.sk-item {position: relative;z-index: 1;}#sk-container-id-1 div.sk-parallel {display: flex;align-items: stretch;justify-content: center;background-color: white;position: relative;}#sk-container-id-1 div.sk-item::before, #sk-container-id-1 div.sk-parallel-item::before {content: \"\";position: absolute;border-left: 1px solid gray;box-sizing: border-box;top: 0;bottom: 0;left: 50%;z-index: -1;}#sk-container-id-1 div.sk-parallel-item {display: flex;flex-direction: column;z-index: 1;position: relative;background-color: white;}#sk-container-id-1 div.sk-parallel-item:first-child::after {align-self: flex-end;width: 50%;}#sk-container-id-1 div.sk-parallel-item:last-child::after {align-self: flex-start;width: 50%;}#sk-container-id-1 div.sk-parallel-item:only-child::after {width: 0;}#sk-container-id-1 div.sk-dashed-wrapped {border: 1px dashed gray;margin: 0 0.4em 0.5em 0.4em;box-sizing: border-box;padding-bottom: 0.4em;background-color: white;}#sk-container-id-1 div.sk-label label {font-family: monospace;font-weight: bold;display: inline-block;line-height: 1.2em;}#sk-container-id-1 div.sk-label-container {text-align: center;}#sk-container-id-1 div.sk-container {/* jupyter's `normalize.less` sets `[hidden] { display: none; }` but bootstrap.min.css set `[hidden] { display: none !important; }` so we also need the `!important` here to be able to override the default hidden behavior on the sphinx rendered scikit-learn.org. See: https://github.com/scikit-learn/scikit-learn/issues/21755 */display: inline-block !important;position: relative;}#sk-container-id-1 div.sk-text-repr-fallback {display: none;}</style><div id=\"sk-container-id-1\" class=\"sk-top-container\"><div class=\"sk-text-repr-fallback\"><pre>VotingClassifier(estimators=[(&#x27;KNeighbours&#x27;, KNeighborsClassifier()),\n",
       "                             (&#x27;Naive Bayes&#x27;, GaussianNB()),\n",
       "                             (&#x27;SVM&#x27;, SVC(C=1, kernel=&#x27;poly&#x27;, probability=True)),\n",
       "                             (&#x27;Random Forest&#x27;,\n",
       "                              RandomForestClassifier(n_estimators=20,\n",
       "                                                     random_state=0))],\n",
       "                 voting=&#x27;soft&#x27;)</pre><b>In a Jupyter environment, please rerun this cell to show the HTML representation or trust the notebook. <br />On GitHub, the HTML representation is unable to render, please try loading this page with nbviewer.org.</b></div><div class=\"sk-container\" hidden><div class=\"sk-item sk-dashed-wrapped\"><div class=\"sk-label-container\"><div class=\"sk-label sk-toggleable\"><input class=\"sk-toggleable__control sk-hidden--visually\" id=\"sk-estimator-id-1\" type=\"checkbox\" ><label for=\"sk-estimator-id-1\" class=\"sk-toggleable__label sk-toggleable__label-arrow\">VotingClassifier</label><div class=\"sk-toggleable__content\"><pre>VotingClassifier(estimators=[(&#x27;KNeighbours&#x27;, KNeighborsClassifier()),\n",
       "                             (&#x27;Naive Bayes&#x27;, GaussianNB()),\n",
       "                             (&#x27;SVM&#x27;, SVC(C=1, kernel=&#x27;poly&#x27;, probability=True)),\n",
       "                             (&#x27;Random Forest&#x27;,\n",
       "                              RandomForestClassifier(n_estimators=20,\n",
       "                                                     random_state=0))],\n",
       "                 voting=&#x27;soft&#x27;)</pre></div></div></div><div class=\"sk-parallel\"><div class=\"sk-parallel-item\"><div class=\"sk-item\"><div class=\"sk-label-container\"><div class=\"sk-label sk-toggleable\"><label>KNeighbours</label></div></div><div class=\"sk-serial\"><div class=\"sk-item\"><div class=\"sk-estimator sk-toggleable\"><input class=\"sk-toggleable__control sk-hidden--visually\" id=\"sk-estimator-id-2\" type=\"checkbox\" ><label for=\"sk-estimator-id-2\" class=\"sk-toggleable__label sk-toggleable__label-arrow\">KNeighborsClassifier</label><div class=\"sk-toggleable__content\"><pre>KNeighborsClassifier()</pre></div></div></div></div></div></div><div class=\"sk-parallel-item\"><div class=\"sk-item\"><div class=\"sk-label-container\"><div class=\"sk-label sk-toggleable\"><label>Naive Bayes</label></div></div><div class=\"sk-serial\"><div class=\"sk-item\"><div class=\"sk-estimator sk-toggleable\"><input class=\"sk-toggleable__control sk-hidden--visually\" id=\"sk-estimator-id-3\" type=\"checkbox\" ><label for=\"sk-estimator-id-3\" class=\"sk-toggleable__label sk-toggleable__label-arrow\">GaussianNB</label><div class=\"sk-toggleable__content\"><pre>GaussianNB()</pre></div></div></div></div></div></div><div class=\"sk-parallel-item\"><div class=\"sk-item\"><div class=\"sk-label-container\"><div class=\"sk-label sk-toggleable\"><label>SVM</label></div></div><div class=\"sk-serial\"><div class=\"sk-item\"><div class=\"sk-estimator sk-toggleable\"><input class=\"sk-toggleable__control sk-hidden--visually\" id=\"sk-estimator-id-4\" type=\"checkbox\" ><label for=\"sk-estimator-id-4\" class=\"sk-toggleable__label sk-toggleable__label-arrow\">SVC</label><div class=\"sk-toggleable__content\"><pre>SVC(C=1, kernel=&#x27;poly&#x27;, probability=True)</pre></div></div></div></div></div></div><div class=\"sk-parallel-item\"><div class=\"sk-item\"><div class=\"sk-label-container\"><div class=\"sk-label sk-toggleable\"><label>Random Forest</label></div></div><div class=\"sk-serial\"><div class=\"sk-item\"><div class=\"sk-estimator sk-toggleable\"><input class=\"sk-toggleable__control sk-hidden--visually\" id=\"sk-estimator-id-5\" type=\"checkbox\" ><label for=\"sk-estimator-id-5\" class=\"sk-toggleable__label sk-toggleable__label-arrow\">RandomForestClassifier</label><div class=\"sk-toggleable__content\"><pre>RandomForestClassifier(n_estimators=20, random_state=0)</pre></div></div></div></div></div></div></div></div></div></div>"
      ],
      "text/plain": [
       "VotingClassifier(estimators=[('KNeighbours', KNeighborsClassifier()),\n",
       "                             ('Naive Bayes', GaussianNB()),\n",
       "                             ('SVM', SVC(C=1, kernel='poly', probability=True)),\n",
       "                             ('Random Forest',\n",
       "                              RandomForestClassifier(n_estimators=20,\n",
       "                                                     random_state=0))],\n",
       "                 voting='soft')"
      ]
     },
     "execution_count": 45,
     "metadata": {},
     "output_type": "execute_result"
    }
   ],
   "source": [
    "''' the ensemble classifier is using the VotingClassifier from scikit-learn library. The voting parameter is set to 'soft', which uses the predicted class probabilities to weight the vote. Also, the estimators are passed as a list of tuples, where the first element of each tuple is a string that gives a name to the classifier, and the second element is the classifier object.'''\n",
    "# creating ensemble classifier\n",
    "ensemble = VotingClassifier(estimators=[('KNeighbours',knn),('Naive Bayes', NaiveBayes),('SVM',SVM),('Random Forest', RF)], voting='soft')\n",
    "# fit ensemble to training data\n",
    "ensemble.fit(Xtrain,Ytrain)"
   ]
  },
  {
   "cell_type": "code",
   "execution_count": 46,
   "metadata": {},
   "outputs": [
    {
     "name": "stdout",
     "output_type": "stream",
     "text": [
      "Ensemble's Accuracy is:  0.990909090909091\n",
      "              precision    recall  f1-score   support\n",
      "\n",
      "       apple       1.00      1.00      1.00        13\n",
      "      banana       1.00      1.00      1.00        17\n",
      "   blackgram       1.00      1.00      1.00        16\n",
      "    chickpea       1.00      1.00      1.00        21\n",
      "     coconut       1.00      1.00      1.00        21\n",
      "      coffee       1.00      1.00      1.00        22\n",
      "      cotton       1.00      1.00      1.00        20\n",
      "      grapes       1.00      1.00      1.00        18\n",
      "        jute       0.88      1.00      0.93        28\n",
      " kidneybeans       1.00      1.00      1.00        14\n",
      "      lentil       1.00      1.00      1.00        23\n",
      "       maize       1.00      1.00      1.00        21\n",
      "       mango       1.00      1.00      1.00        26\n",
      "   mothbeans       1.00      1.00      1.00        19\n",
      "    mungbean       1.00      1.00      1.00        24\n",
      "   muskmelon       1.00      1.00      1.00        23\n",
      "      orange       1.00      1.00      1.00        29\n",
      "      papaya       1.00      1.00      1.00        19\n",
      "  pigeonpeas       1.00      1.00      1.00        18\n",
      " pomegranate       1.00      1.00      1.00        17\n",
      "        rice       1.00      0.75      0.86        16\n",
      "  watermelon       1.00      1.00      1.00        15\n",
      "\n",
      "    accuracy                           0.99       440\n",
      "   macro avg       0.99      0.99      0.99       440\n",
      "weighted avg       0.99      0.99      0.99       440\n",
      "\n"
     ]
    }
   ],
   "source": [
    "# using ensemble to predict\n",
    "predicted_values = ensemble.predict(Xtest)\n",
    "x = metrics.accuracy_score(Ytest, predicted_values)\n",
    "acc.append(x)\n",
    "model.append('Ensemble')\n",
    "print(\"Ensemble's Accuracy is: \", x)\n",
    "\n",
    "print(classification_report(Ytest,predicted_values))"
   ]
  },
  {
   "cell_type": "code",
   "execution_count": 47,
   "metadata": {},
   "outputs": [
    {
     "name": "stdout",
     "output_type": "stream",
     "text": [
      "Cross validation score:  [0.99772727 0.99318182 0.99545455 0.99545455 0.98636364]\n",
      "Cross validation score accuracy:  0.9936363636363638\n"
     ]
    }
   ],
   "source": [
    "# Cross validation score (ensemble)\n",
    "score = cross_val_score(ensemble,features,target,cv=5)\n",
    "cv_acc_en = np.mean(score)\n",
    "print('Cross validation score: ',score)\n",
    "print('Cross validation score accuracy: ',cv_acc_en)"
   ]
  },
  {
   "cell_type": "code",
   "execution_count": 48,
   "metadata": {},
   "outputs": [
    {
     "name": "stdout",
     "output_type": "stream",
     "text": [
      "0.9943181818181818\n",
      "0.9886363636363636\n",
      "0.9904761904761905\n"
     ]
    }
   ],
   "source": [
    "precision_en,recall_en,fscore_en,support_en = precision_recall_fscore_support(Ytest,predicted_values, average='macro')\n",
    "print(precision_en)\n",
    "print(recall_en)\n",
    "print(fscore_en)"
   ]
  },
  {
   "cell_type": "code",
   "execution_count": 49,
   "metadata": {},
   "outputs": [
    {
     "name": "stdout",
     "output_type": "stream",
     "text": [
      "Training accuracy =  0.9977272727272727\n",
      "Testing accuracy =  0.990909090909091\n"
     ]
    }
   ],
   "source": [
    "#Print Train Accuracy\n",
    "en_train_accuracy = ensemble.score(Xtrain,Ytrain)\n",
    "print(\"Training accuracy = \",ensemble.score(Xtrain,Ytrain))\n",
    "#Print Test Accuracy\n",
    "en_test_accuracy = ensemble.score(Xtest,Ytest)\n",
    "print(\"Testing accuracy = \",ensemble.score(Xtest,Ytest))"
   ]
  },
  {
   "cell_type": "code",
   "execution_count": 50,
   "metadata": {},
   "outputs": [
    {
     "data": {
      "image/png": "[encoded data removed]",
      "text/plain": [
       "<Figure size 1080x720 with 2 Axes>"
      ]
     },
     "metadata": {
      "needs_background": "light"
     },
     "output_type": "display_data"
    }
   ],
   "source": [
    "y_pred = ensemble.predict(Xtest)\n",
    "y_true = Ytest\n",
    "\n",
    "from sklearn.metrics import confusion_matrix\n",
    "\n",
    "cm_en = confusion_matrix(y_true,y_pred)\n",
    "\n",
    "f, ax = plt.subplots(figsize=(15,10))\n",
    "sns.heatmap(cm_en, annot=True, linewidth=0.5, fmt=\".0f\",  cmap='viridis', ax = ax)\n",
    "plt.xlabel(\"Predicted\")\n",
    "plt.ylabel(\"Actual\")\n",
    "plt.title('Predicted vs actual')\n",
    "plt.show()"
   ]
  },
  {
   "cell_type": "code",
   "execution_count": 51,
   "metadata": {},
   "outputs": [
    {
     "name": "stdout",
     "output_type": "stream",
     "text": [
      "Sensitivity:  1.0\n",
      "Specificity :  1.0\n"
     ]
    }
   ],
   "source": [
    "tp_en = cm_en[0,0]\n",
    "fp_en = cm_en[0,1]\n",
    "tn_en = cm_en[1,1]\n",
    "fn_en = cm_en[1,0]\n",
    "sensitivity_en = tp_en/(tp_en+fn_en)\n",
    "print(\"Sensitivity: \",sensitivity_en)\n",
    "specificity_en = tn_en/(fp_en+tn_en)\n",
    "print('Specificity : ', specificity_en)"
   ]
  },
  {
   "cell_type": "code",
   "execution_count": 52,
   "metadata": {},
   "outputs": [],
   "source": [
    "# Saving trained Ensemble model\n",
    "import pickle\n",
    "# Dump the trained Ensemble classifier with Pickle\n",
    "EN_pkl_filename = './models/Ensemble.pkl'\n",
    "# Open the file to save as pkl file\n",
    "EN_Model_pkl = open(EN_pkl_filename, 'wb')\n",
    "pickle.dump(ensemble, EN_Model_pkl)\n",
    "# Close the pickle instances\n",
    "EN_Model_pkl.close()"
   ]
  },
  {
   "cell_type": "code",
   "execution_count": 53,
   "metadata": {},
   "outputs": [
    {
     "data": {
      "text/plain": [
       "<AxesSubplot:title={'center':'Accuracy Comparison'}, xlabel='Accuracy', ylabel='Algorithm'>"
      ]
     },
     "execution_count": 53,
     "metadata": {},
     "output_type": "execute_result"
    },
    {
     "data": {
      "image/png": "[encoded data removed]",
      "text/plain": [
       "<Figure size 1000x500 with 1 Axes>"
      ]
     },
     "metadata": {
      "needs_background": "light"
     },
     "output_type": "display_data"
    }
   ],
   "source": [
    "plt.figure(figsize=[10,5],dpi = 100)\n",
    "plt.title('Accuracy Comparison')\n",
    "plt.xlabel('Accuracy')\n",
    "plt.ylabel('Algorithm')\n",
    "sns.barplot(x = acc,y = model,palette='dark')"
   ]
  },
  {
   "cell_type": "code",
   "execution_count": 54,
   "metadata": {},
   "outputs": [
    {
     "data": {
      "image/png": "[encoded data removed]",
      "text/plain": [
       "<Figure size 1440x504 with 1 Axes>"
      ]
     },
     "metadata": {
      "needs_background": "light"
     },
     "output_type": "display_data"
    }
   ],
   "source": [
    "label = ['KNN','Naive Bayes','SVM','Random Forest','Ensemble']\n",
    "Test = [knn_test_accuracy, nb_test_accuracy,svm_test_accuracy,rf_test_accuracy,en_test_accuracy]\n",
    "Train = [knn_train_accuracy,  nb_train_accuracy, svm_train_accuracy,rf_train_accuracy,en_train_accuracy]\n",
    "\n",
    "f, ax = plt.subplots(figsize=(20,7)) # set the size that you'd like (width, height)\n",
    "X_axis = np.arange(len(label))\n",
    "plt.bar(X_axis - 0.2,Test, 0.4, label = 'Test', color=('midnightblue'))\n",
    "plt.bar(X_axis + 0.2,Train, 0.4, label = 'Train', color=('mediumaquamarine'))\n",
    "\n",
    "plt.xticks(X_axis, label)\n",
    "plt.xlabel(\"ML algorithms\")\n",
    "plt.ylabel(\"Accuracy\")\n",
    "plt.title(\"Testing vs Training Accuracy\")\n",
    "plt.legend()\n",
    "#plt.savefig('train vs test.png')\n",
    "plt.show()"
   ]
  },
  {
   "cell_type": "code",
   "execution_count": 55,
   "metadata": {},
   "outputs": [
    {
     "name": "stdout",
     "output_type": "stream",
     "text": [
      "K Nearest Neighbours --> 0.975\n",
      "Naive Bayes --> 0.990909090909091\n",
      "SVM --> 0.975\n",
      "RF --> 0.990909090909091\n",
      "Ensemble --> 0.990909090909091\n"
     ]
    }
   ],
   "source": [
    "accuracy_models = dict(zip(model, acc))\n",
    "for k, v in accuracy_models.items():\n",
    "    print (k, '-->', v)"
   ]
  },
  {
   "cell_type": "code",
   "execution_count": 56,
   "metadata": {},
   "outputs": [],
   "source": [
    "# Measuring the Error\n",
    "models = [('K-Nearest Neighbors (KNN)', tp_knn, fp_knn, tn_knn, fn_knn, knn_train_accuracy, knn_test_accuracy, cv_acc_knn,sensitivity_knn,specificity_knn,precision_knn,recall_knn,fscore_knn),\n",
    "          ('Naive Bayes', tp_nb, fp_nb, tn_nb, fn_nb, nb_train_accuracy, nb_test_accuracy, cv_acc_nb,sensitivity_nb,specificity_nb,precision_nb,recall_nb,fscore_nb),\n",
    "          ('SVM', tp_svm, fp_svm, tn_svm, fn_svm, svm_train_accuracy, svm_test_accuracy, cv_acc_svm,sensitivity_svm,specificity_svm,precision_svm,recall_svm,fscore_svm),\n",
    "          ('Random Forest', tp_rf, fp_rf, tn_rf, fn_rf, rf_train_accuracy, rf_test_accuracy, cv_acc_rf,sensitivity_rf,specificity_rf,precision_rf,recall_rf,fscore_rf),\n",
    "          ('Ensemble', tp_en, fp_en, tn_en, fn_en, en_train_accuracy, en_test_accuracy, cv_acc_en,sensitivity_en,specificity_en,precision_en,recall_en,fscore_en)\n",
    "         ]"
   ]
  },
  {
   "cell_type": "code",
   "execution_count": 57,
   "metadata": {},
   "outputs": [
    {
     "data": {
      "text/html": [
       "<div>\n",
       "<style scoped>\n",
       "    .dataframe tbody tr th:only-of-type {\n",
       "        vertical-align: middle;\n",
       "    }\n",
       "\n",
       "    .dataframe tbody tr th {\n",
       "        vertical-align: top;\n",
       "    }\n",
       "\n",
       "    .dataframe thead th {\n",
       "        text-align: right;\n",
       "    }\n",
       "</style>\n",
       "<table border=\"1\" class=\"dataframe\">\n",
       "  <thead>\n",
       "    <tr style=\"text-align: right;\">\n",
       "      <th></th>\n",
       "      <th>Model</th>\n",
       "      <th>True Positive</th>\n",
       "      <th>False Positive</th>\n",
       "      <th>True Negative</th>\n",
       "      <th>False Negative</th>\n",
       "      <th>Accuracy(training)</th>\n",
       "      <th>Accuracy(test)</th>\n",
       "      <th>Cross-Validation</th>\n",
       "      <th>Sensitivity</th>\n",
       "      <th>Specificity</th>\n",
       "      <th>Precision</th>\n",
       "      <th>Recall</th>\n",
       "      <th>F1 Score</th>\n",
       "    </tr>\n",
       "  </thead>\n",
       "  <tbody>\n",
       "    <tr>\n",
       "      <th>0</th>\n",
       "      <td>K-Nearest Neighbors (KNN)</td>\n",
       "      <td>13</td>\n",
       "      <td>0</td>\n",
       "      <td>17</td>\n",
       "      <td>0</td>\n",
       "      <td>0.988636</td>\n",
       "      <td>0.975000</td>\n",
       "      <td>0.979545</td>\n",
       "      <td>1.0</td>\n",
       "      <td>1.0</td>\n",
       "      <td>0.974492</td>\n",
       "      <td>0.975509</td>\n",
       "      <td>0.974620</td>\n",
       "    </tr>\n",
       "    <tr>\n",
       "      <th>1</th>\n",
       "      <td>Naive Bayes</td>\n",
       "      <td>13</td>\n",
       "      <td>0</td>\n",
       "      <td>17</td>\n",
       "      <td>0</td>\n",
       "      <td>0.996023</td>\n",
       "      <td>0.990909</td>\n",
       "      <td>0.995000</td>\n",
       "      <td>1.0</td>\n",
       "      <td>1.0</td>\n",
       "      <td>0.994318</td>\n",
       "      <td>0.988636</td>\n",
       "      <td>0.990476</td>\n",
       "    </tr>\n",
       "    <tr>\n",
       "      <th>2</th>\n",
       "      <td>SVM</td>\n",
       "      <td>13</td>\n",
       "      <td>0</td>\n",
       "      <td>17</td>\n",
       "      <td>0</td>\n",
       "      <td>0.989205</td>\n",
       "      <td>0.975000</td>\n",
       "      <td>0.982727</td>\n",
       "      <td>1.0</td>\n",
       "      <td>1.0</td>\n",
       "      <td>0.974877</td>\n",
       "      <td>0.974292</td>\n",
       "      <td>0.974201</td>\n",
       "    </tr>\n",
       "    <tr>\n",
       "      <th>3</th>\n",
       "      <td>Random Forest</td>\n",
       "      <td>13</td>\n",
       "      <td>0</td>\n",
       "      <td>17</td>\n",
       "      <td>0</td>\n",
       "      <td>1.000000</td>\n",
       "      <td>0.990909</td>\n",
       "      <td>0.994545</td>\n",
       "      <td>1.0</td>\n",
       "      <td>1.0</td>\n",
       "      <td>0.992927</td>\n",
       "      <td>0.989085</td>\n",
       "      <td>0.990381</td>\n",
       "    </tr>\n",
       "    <tr>\n",
       "      <th>4</th>\n",
       "      <td>Ensemble</td>\n",
       "      <td>13</td>\n",
       "      <td>0</td>\n",
       "      <td>17</td>\n",
       "      <td>0</td>\n",
       "      <td>0.997727</td>\n",
       "      <td>0.990909</td>\n",
       "      <td>0.993636</td>\n",
       "      <td>1.0</td>\n",
       "      <td>1.0</td>\n",
       "      <td>0.994318</td>\n",
       "      <td>0.988636</td>\n",
       "      <td>0.990476</td>\n",
       "    </tr>\n",
       "  </tbody>\n",
       "</table>\n",
       "</div>"
      ],
      "text/plain": [
       "                       Model  True Positive  False Positive  True Negative  \\\n",
       "0  K-Nearest Neighbors (KNN)             13               0             17   \n",
       "1                Naive Bayes             13               0             17   \n",
       "2                        SVM             13               0             17   \n",
       "3              Random Forest             13               0             17   \n",
       "4                   Ensemble             13               0             17   \n",
       "\n",
       "   False Negative  Accuracy(training)  Accuracy(test)  Cross-Validation  \\\n",
       "0               0            0.988636        0.975000          0.979545   \n",
       "1               0            0.996023        0.990909          0.995000   \n",
       "2               0            0.989205        0.975000          0.982727   \n",
       "3               0            1.000000        0.990909          0.994545   \n",
       "4               0            0.997727        0.990909          0.993636   \n",
       "\n",
       "   Sensitivity  Specificity  Precision    Recall  F1 Score  \n",
       "0          1.0          1.0   0.974492  0.975509  0.974620  \n",
       "1          1.0          1.0   0.994318  0.988636  0.990476  \n",
       "2          1.0          1.0   0.974877  0.974292  0.974201  \n",
       "3          1.0          1.0   0.992927  0.989085  0.990381  \n",
       "4          1.0          1.0   0.994318  0.988636  0.990476  "
      ]
     },
     "execution_count": 57,
     "metadata": {},
     "output_type": "execute_result"
    }
   ],
   "source": [
    "predict = pd.DataFrame(data = models, columns=['Model', 'True Positive', 'False Positive', 'True Negative',\n",
    "                                               'False Negative', 'Accuracy(training)', 'Accuracy(test)',\n",
    "                                               'Cross-Validation','Sensitivity','Specificity','Precision','Recall','F1 Score'])\n",
    "predict"
   ]
  },
  {
   "cell_type": "code",
   "execution_count": 58,
   "metadata": {},
   "outputs": [
    {
     "data": {
      "image/png": "[encoded data removed]",
      "text/plain": [
       "<Figure size 1296x432 with 1 Axes>"
      ]
     },
     "metadata": {
      "needs_background": "light"
     },
     "output_type": "display_data"
    }
   ],
   "source": [
    "# Visualizing Model Performance\n",
    "f, axe = plt.subplots(1,1, figsize=(18,6))\n",
    "\n",
    "predict.sort_values(by=['Cross-Validation'], ascending=False, inplace=True)\n",
    "\n",
    "sns.barplot(x='Cross-Validation', y='Model', data = predict, ax = axe)\n",
    "#axes[0].set(xlabel='Region', ylabel='Charges')\n",
    "axe.set_xlabel('Cross-Validaton Score', size=16)\n",
    "axe.set_ylabel('Model')\n",
    "axe.set_xlim(0,1.0)\n",
    "axe.set_xticks(np.arange(0, 1.1, 0.1))\n",
    "plt.show()"
   ]
  },
  {
   "cell_type": "code",
   "execution_count": 59,
   "metadata": {},
   "outputs": [
    {
     "data": {
      "image/png": "[encoded data removed]",
      "text/plain": [
       "<Figure size 1008x720 with 2 Axes>"
      ]
     },
     "metadata": {
      "needs_background": "light"
     },
     "output_type": "display_data"
    }
   ],
   "source": [
    "f, axes = plt.subplots(2,1, figsize=(14,10))\n",
    "\n",
    "predict.sort_values(by=['Accuracy(training)'], ascending=False, inplace=True)\n",
    "\n",
    "sns.barplot(x='Accuracy(training)', y='Model', data = predict, palette='Blues_d', ax = axes[0])\n",
    "#axes[0].set(xlabel='Region', ylabel='Charges')\n",
    "axes[0].set_xlabel('Accuracy (Training)', size=16)\n",
    "axes[0].set_ylabel('Model')\n",
    "axes[0].set_xlim(0,1.0)\n",
    "axes[0].set_xticks(np.arange(0, 1.1, 0.1))\n",
    "\n",
    "predict.sort_values(by=['Accuracy(test)'], ascending=False, inplace=True)\n",
    "\n",
    "sns.barplot(x='Accuracy(test)', y='Model', data = predict, palette='Reds_d', ax = axes[1])\n",
    "#axes[0].set(xlabel='Region', ylabel='Charges')\n",
    "axes[1].set_xlabel('Accuracy (Test)', size=16)\n",
    "axes[1].set_ylabel('Model')\n",
    "axes[1].set_xlim(0,1.0)\n",
    "axes[1].set_xticks(np.arange(0, 1.1, 0.1))\n",
    "\n",
    "plt.show()"
   ]
  },
  {
   "cell_type": "code",
   "execution_count": 60,
   "metadata": {},
   "outputs": [
    {
     "name": "stdout",
     "output_type": "stream",
     "text": [
      "['coffee']\n"
     ]
    }
   ],
   "source": [
    "data = np.array([[104,18, 30, 23.603016, 60.3, 6.7, 140.91]])\n",
    "prediction = RF.predict(data)\n",
    "print(prediction)"
   ]
  },
  {
   "cell_type": "code",
   "execution_count": 61,
   "metadata": {},
   "outputs": [
    {
     "name": "stdout",
     "output_type": "stream",
     "text": [
      "['jute']\n"
     ]
    }
   ],
   "source": [
    "data = np.array([[83, 45, 60, 28, 70.3, 7.0, 150.9]])\n",
    "prediction = RF.predict(data)\n",
    "print(prediction)"
   ]
  },
  {
   "cell_type": "code",
   "execution_count": 62,
   "metadata": {},
   "outputs": [
    {
     "name": "stdout",
     "output_type": "stream",
     "text": [
      "Sample outcome:  ['kidneybeans']\n"
     ]
    }
   ],
   "source": [
    "sample=ensemble.predict([[10,55,23,21.18853178,19.63438599,5.728233081,137.1948633]])\n",
    "print(\"Sample outcome: \",sample)"
   ]
  },
  {
   "cell_type": "code",
   "execution_count": null,
   "metadata": {},
   "outputs": [],
   "source": []
  }
 ],
 "metadata": {
  "kernelspec": {
   "display_name": "Python 3",
   "language": "python",
   "name": "python3"
  },
  "language_info": {
   "codemirror_mode": {
    "name": "ipython",
    "version": 3
   },
   "file_extension": ".py",
   "mimetype": "text/x-python",
   "name": "python",
   "nbconvert_exporter": "python",
   "pygments_lexer": "ipython3",
   "version": "3.8.5"
  },
  "vscode": {
   "interpreter": {
    "hash": "aef5f3a8518170814d0e0c46334641a549e46945aa1efb68e46a42483bc14d57"
   }
  }
 },
 "nbformat": 4,
 "nbformat_minor": 4
}
